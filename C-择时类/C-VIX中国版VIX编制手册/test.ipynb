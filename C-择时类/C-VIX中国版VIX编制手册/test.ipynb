{
 "cells": [
  {
   "cell_type": "code",
   "execution_count": 1,
   "metadata": {},
   "outputs": [],
   "source": [
    "import pandas as pd\n",
    "import numpy as np\n",
    "\n",
    "from data_service import (get_shibor_data,get_interpld_shibor,query_china_shibor_all)\n",
    "\n",
    "from CVIX import (filter_contract,cal_forward_price,cal_forward_price,get_cboe_vix)"
   ]
  },
  {
   "cell_type": "code",
   "execution_count": 2,
   "metadata": {},
   "outputs": [],
   "source": [
    "opt_data = pd.read_csv('opt_data.csv',index_col=[0])\n",
    "# df_rate = pd.read_csv('shibor_df.csv',index_col=0) # from jqdata\n",
    "\n",
    "shibor_df = get_shibor_data('2015-02-09','2022-05-27')\n",
    "rate_df = get_interpld_shibor(shibor_df)"
   ]
  },
  {
   "cell_type": "code",
   "execution_count": 6,
   "metadata": {},
   "outputs": [
    {
     "data": {
      "text/plain": [
       "array(['2015-02-09', '2015-02-10', '2015-02-11', ..., '2022-05-25',\n",
       "       '2022-05-26', '2022-05-27'], dtype=object)"
      ]
     },
     "execution_count": 6,
     "metadata": {},
     "output_type": "execute_result"
    }
   ],
   "source": [
    "opt_data['date'].unique()"
   ]
  },
  {
   "cell_type": "code",
   "execution_count": 11,
   "metadata": {},
   "outputs": [],
   "source": [
    "COND = (opt_data['date'] == '2015-02-09')\n",
    "filter_df = opt_data[COND]"
   ]
  },
  {
   "cell_type": "code",
   "execution_count": 75,
   "metadata": {},
   "outputs": [],
   "source": [
    "maturity, jy_matrix, cjy_matrix =  filter_contract(filter_df)"
   ]
  },
  {
   "cell_type": "code",
   "execution_count": 68,
   "metadata": {},
   "outputs": [],
   "source": [
    "def _get_group_smallest(df:pd.Series,n:int=1)->pd.DataFrame:\n",
    "    \"\"\"获取opt_data中maturity中最小的两个值\n",
    "\n",
    "    Args:\n",
    "        df (pd.Series)\n",
    "        | idnex | list_date | exercise_date | exercise_price | contract_type | code          |\n",
    "        | :---- | :-------- | :------------ | :------------- | :------------ | :------------ |\n",
    "        | 0     | 2021/7/29 | 2022/3/23     | 4.332          | CO            | 10003549.XSHG |\n",
    "\n",
    "    Returns:\n",
    "        pd.DataFrame\n",
    "    \"\"\"\n",
    "    cond = (df['maturity'] <= np.sort(df['maturity'].unique())[n])\n",
    "    \n",
    "    return df[cond]\n",
    "\n",
    "tmp_df = opt_data.groupby('date',group_keys=False).apply(_get_group_smallest)"
   ]
  },
  {
   "cell_type": "code",
   "execution_count": 72,
   "metadata": {},
   "outputs": [],
   "source": [
    "smallest_maturity:pd.Series = tmp_df.groupby('date').apply(lambda x:np.sort(x['maturity'].unique())[:2])"
   ]
  },
  {
   "cell_type": "code",
   "execution_count": 76,
   "metadata": {},
   "outputs": [
    {
     "data": {
      "text/html": [
       "<div>\n",
       "<style scoped>\n",
       "    .dataframe tbody tr th:only-of-type {\n",
       "        vertical-align: middle;\n",
       "    }\n",
       "\n",
       "    .dataframe tbody tr th {\n",
       "        vertical-align: top;\n",
       "    }\n",
       "\n",
       "    .dataframe thead th {\n",
       "        text-align: right;\n",
       "    }\n",
       "</style>\n",
       "<table border=\"1\" class=\"dataframe\">\n",
       "  <thead>\n",
       "    <tr style=\"text-align: right;\">\n",
       "      <th>contract_type</th>\n",
       "      <th>call</th>\n",
       "      <th>put</th>\n",
       "      <th>diff</th>\n",
       "    </tr>\n",
       "    <tr>\n",
       "      <th>exercise_price</th>\n",
       "      <th></th>\n",
       "      <th></th>\n",
       "      <th></th>\n",
       "    </tr>\n",
       "  </thead>\n",
       "  <tbody>\n",
       "    <tr>\n",
       "      <th>2.20</th>\n",
       "      <td>0.2100</td>\n",
       "      <td>0.0880</td>\n",
       "      <td>0.1220</td>\n",
       "    </tr>\n",
       "    <tr>\n",
       "      <th>2.25</th>\n",
       "      <td>0.1785</td>\n",
       "      <td>0.1111</td>\n",
       "      <td>0.0674</td>\n",
       "    </tr>\n",
       "    <tr>\n",
       "      <th>2.30</th>\n",
       "      <td>0.1466</td>\n",
       "      <td>0.1327</td>\n",
       "      <td>0.0139</td>\n",
       "    </tr>\n",
       "    <tr>\n",
       "      <th>2.35</th>\n",
       "      <td>0.1261</td>\n",
       "      <td>0.1614</td>\n",
       "      <td>0.0353</td>\n",
       "    </tr>\n",
       "    <tr>\n",
       "      <th>2.40</th>\n",
       "      <td>0.1008</td>\n",
       "      <td>0.1903</td>\n",
       "      <td>0.0895</td>\n",
       "    </tr>\n",
       "  </tbody>\n",
       "</table>\n",
       "</div>"
      ],
      "text/plain": [
       "contract_type     call     put    diff\n",
       "exercise_price                        \n",
       "2.20            0.2100  0.0880  0.1220\n",
       "2.25            0.1785  0.1111  0.0674\n",
       "2.30            0.1466  0.1327  0.0139\n",
       "2.35            0.1261  0.1614  0.0353\n",
       "2.40            0.1008  0.1903  0.0895"
      ]
     },
     "execution_count": 76,
     "metadata": {},
     "output_type": "execute_result"
    }
   ],
   "source": [
    "cjy_matrix"
   ]
  },
  {
   "cell_type": "code",
   "execution_count": 77,
   "metadata": {},
   "outputs": [
    {
     "data": {
      "text/html": [
       "<div>\n",
       "<style scoped>\n",
       "    .dataframe tbody tr th:only-of-type {\n",
       "        vertical-align: middle;\n",
       "    }\n",
       "\n",
       "    .dataframe tbody tr th {\n",
       "        vertical-align: top;\n",
       "    }\n",
       "\n",
       "    .dataframe thead th {\n",
       "        text-align: right;\n",
       "    }\n",
       "</style>\n",
       "<table border=\"1\" class=\"dataframe\">\n",
       "  <thead>\n",
       "    <tr style=\"text-align: right;\">\n",
       "      <th></th>\n",
       "      <th>date</th>\n",
       "      <th>exercise_date</th>\n",
       "      <th>close</th>\n",
       "      <th>contract_type</th>\n",
       "      <th>exercise_price</th>\n",
       "      <th>maturity</th>\n",
       "    </tr>\n",
       "  </thead>\n",
       "  <tbody>\n",
       "    <tr>\n",
       "      <th>0</th>\n",
       "      <td>2015-02-09</td>\n",
       "      <td>2015-03-25</td>\n",
       "      <td>0.1826</td>\n",
       "      <td>call</td>\n",
       "      <td>2.200</td>\n",
       "      <td>0.120548</td>\n",
       "    </tr>\n",
       "    <tr>\n",
       "      <th>656</th>\n",
       "      <td>2015-02-09</td>\n",
       "      <td>2015-04-22</td>\n",
       "      <td>0.1614</td>\n",
       "      <td>put</td>\n",
       "      <td>2.350</td>\n",
       "      <td>0.197260</td>\n",
       "    </tr>\n",
       "    <tr>\n",
       "      <th>609</th>\n",
       "      <td>2015-02-09</td>\n",
       "      <td>2015-04-22</td>\n",
       "      <td>0.1327</td>\n",
       "      <td>put</td>\n",
       "      <td>2.300</td>\n",
       "      <td>0.197260</td>\n",
       "    </tr>\n",
       "    <tr>\n",
       "      <th>562</th>\n",
       "      <td>2015-02-09</td>\n",
       "      <td>2015-04-22</td>\n",
       "      <td>0.1111</td>\n",
       "      <td>put</td>\n",
       "      <td>2.250</td>\n",
       "      <td>0.197260</td>\n",
       "    </tr>\n",
       "    <tr>\n",
       "      <th>515</th>\n",
       "      <td>2015-02-09</td>\n",
       "      <td>2015-04-22</td>\n",
       "      <td>0.0880</td>\n",
       "      <td>put</td>\n",
       "      <td>2.200</td>\n",
       "      <td>0.197260</td>\n",
       "    </tr>\n",
       "    <tr>\n",
       "      <th>...</th>\n",
       "      <td>...</td>\n",
       "      <td>...</td>\n",
       "      <td>...</td>\n",
       "      <td>...</td>\n",
       "      <td>...</td>\n",
       "      <td>...</td>\n",
       "    </tr>\n",
       "    <tr>\n",
       "      <th>207889</th>\n",
       "      <td>2022-05-27</td>\n",
       "      <td>2022-06-22</td>\n",
       "      <td>0.3190</td>\n",
       "      <td>put</td>\n",
       "      <td>3.061</td>\n",
       "      <td>0.071233</td>\n",
       "    </tr>\n",
       "    <tr>\n",
       "      <th>213693</th>\n",
       "      <td>2022-05-27</td>\n",
       "      <td>2022-06-22</td>\n",
       "      <td>0.2560</td>\n",
       "      <td>put</td>\n",
       "      <td>3.000</td>\n",
       "      <td>0.071233</td>\n",
       "    </tr>\n",
       "    <tr>\n",
       "      <th>220175</th>\n",
       "      <td>2022-05-27</td>\n",
       "      <td>2022-06-22</td>\n",
       "      <td>0.2497</td>\n",
       "      <td>call</td>\n",
       "      <td>2.500</td>\n",
       "      <td>0.071233</td>\n",
       "    </tr>\n",
       "    <tr>\n",
       "      <th>208030</th>\n",
       "      <td>2022-05-27</td>\n",
       "      <td>2022-06-22</td>\n",
       "      <td>0.4207</td>\n",
       "      <td>put</td>\n",
       "      <td>3.159</td>\n",
       "      <td>0.071233</td>\n",
       "    </tr>\n",
       "    <tr>\n",
       "      <th>222221</th>\n",
       "      <td>2022-05-27</td>\n",
       "      <td>2022-07-27</td>\n",
       "      <td>0.2209</td>\n",
       "      <td>put</td>\n",
       "      <td>2.950</td>\n",
       "      <td>0.167123</td>\n",
       "    </tr>\n",
       "  </tbody>\n",
       "</table>\n",
       "<p>109298 rows × 6 columns</p>\n",
       "</div>"
      ],
      "text/plain": [
       "              date exercise_date   close contract_type  exercise_price  \\\n",
       "0       2015-02-09    2015-03-25  0.1826          call           2.200   \n",
       "656     2015-02-09    2015-04-22  0.1614           put           2.350   \n",
       "609     2015-02-09    2015-04-22  0.1327           put           2.300   \n",
       "562     2015-02-09    2015-04-22  0.1111           put           2.250   \n",
       "515     2015-02-09    2015-04-22  0.0880           put           2.200   \n",
       "...            ...           ...     ...           ...             ...   \n",
       "207889  2022-05-27    2022-06-22  0.3190           put           3.061   \n",
       "213693  2022-05-27    2022-06-22  0.2560           put           3.000   \n",
       "220175  2022-05-27    2022-06-22  0.2497          call           2.500   \n",
       "208030  2022-05-27    2022-06-22  0.4207           put           3.159   \n",
       "222221  2022-05-27    2022-07-27  0.2209           put           2.950   \n",
       "\n",
       "        maturity  \n",
       "0       0.120548  \n",
       "656     0.197260  \n",
       "609     0.197260  \n",
       "562     0.197260  \n",
       "515     0.197260  \n",
       "...          ...  \n",
       "207889  0.071233  \n",
       "213693  0.071233  \n",
       "220175  0.071233  \n",
       "208030  0.071233  \n",
       "222221  0.167123  \n",
       "\n",
       "[109298 rows x 6 columns]"
      ]
     },
     "execution_count": 77,
     "metadata": {},
     "output_type": "execute_result"
    }
   ],
   "source": [
    "tmp_df"
   ]
  },
  {
   "cell_type": "code",
   "execution_count": null,
   "metadata": {},
   "outputs": [],
   "source": [
    "# near_term_opt\n",
    "# next_term_opt"
   ]
  }
 ],
 "metadata": {
  "interpreter": {
   "hash": "49cb93f377a7abe7414b7b0f21fb3017538004a126cf690fb524202736b7fb92"
  },
  "kernelspec": {
   "display_name": "Python 3.8.8 ('base')",
   "language": "python",
   "name": "python3"
  },
  "language_info": {
   "codemirror_mode": {
    "name": "ipython",
    "version": 3
   },
   "file_extension": ".py",
   "mimetype": "text/x-python",
   "name": "python",
   "nbconvert_exporter": "python",
   "pygments_lexer": "ipython3",
   "version": "3.8.8"
  },
  "orig_nbformat": 4
 },
 "nbformat": 4,
 "nbformat_minor": 2
}
