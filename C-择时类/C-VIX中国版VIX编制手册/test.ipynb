{
 "cells": [
  {
   "cell_type": "code",
   "execution_count": 19,
   "metadata": {},
   "outputs": [],
   "source": [
    "import pandas as pd\n",
    "import numpy as np\n",
    "from CVIX import (filter_contract,cal_forward_price,cal_forward_price)"
   ]
  },
  {
   "cell_type": "code",
   "execution_count": 20,
   "metadata": {},
   "outputs": [],
   "source": [
    "opt_data = pd.read_csv('opt_data.csv',index_col=[0])\n",
    "df_rate = pd.read_csv('shibor_df.csv',index_col=0)"
   ]
  },
  {
   "cell_type": "code",
   "execution_count": 18,
   "metadata": {},
   "outputs": [],
   "source": [
    "maturity, df_jy, df_cjy = filter_contract(opt_data)"
   ]
  },
  {
   "cell_type": "code",
   "execution_count": null,
   "metadata": {},
   "outputs": [],
   "source": [
    "cal_forward_price(maturity['jy'], rf_rate=rf_rate_jy, df=df_jy)"
   ]
  },
  {
   "cell_type": "code",
   "execution_count": 21,
   "metadata": {},
   "outputs": [
    {
     "data": {
      "text/html": [
       "<div>\n",
       "<style scoped>\n",
       "    .dataframe tbody tr th:only-of-type {\n",
       "        vertical-align: middle;\n",
       "    }\n",
       "\n",
       "    .dataframe tbody tr th {\n",
       "        vertical-align: top;\n",
       "    }\n",
       "\n",
       "    .dataframe thead th {\n",
       "        text-align: right;\n",
       "    }\n",
       "</style>\n",
       "<table border=\"1\" class=\"dataframe\">\n",
       "  <thead>\n",
       "    <tr style=\"text-align: right;\">\n",
       "      <th></th>\n",
       "      <th>date</th>\n",
       "      <th>close</th>\n",
       "      <th>contract_type</th>\n",
       "      <th>exercise_price</th>\n",
       "      <th>maturity</th>\n",
       "    </tr>\n",
       "  </thead>\n",
       "  <tbody>\n",
       "    <tr>\n",
       "      <th>0</th>\n",
       "      <td>2015-02-09</td>\n",
       "      <td>0.1826</td>\n",
       "      <td>call</td>\n",
       "      <td>2.200</td>\n",
       "      <td>0.120548</td>\n",
       "    </tr>\n",
       "    <tr>\n",
       "      <th>656</th>\n",
       "      <td>2015-02-09</td>\n",
       "      <td>0.1614</td>\n",
       "      <td>put</td>\n",
       "      <td>2.350</td>\n",
       "      <td>0.197260</td>\n",
       "    </tr>\n",
       "    <tr>\n",
       "      <th>609</th>\n",
       "      <td>2015-02-09</td>\n",
       "      <td>0.1327</td>\n",
       "      <td>put</td>\n",
       "      <td>2.300</td>\n",
       "      <td>0.197260</td>\n",
       "    </tr>\n",
       "    <tr>\n",
       "      <th>562</th>\n",
       "      <td>2015-02-09</td>\n",
       "      <td>0.1111</td>\n",
       "      <td>put</td>\n",
       "      <td>2.250</td>\n",
       "      <td>0.197260</td>\n",
       "    </tr>\n",
       "    <tr>\n",
       "      <th>515</th>\n",
       "      <td>2015-02-09</td>\n",
       "      <td>0.0880</td>\n",
       "      <td>put</td>\n",
       "      <td>2.200</td>\n",
       "      <td>0.197260</td>\n",
       "    </tr>\n",
       "    <tr>\n",
       "      <th>...</th>\n",
       "      <td>...</td>\n",
       "      <td>...</td>\n",
       "      <td>...</td>\n",
       "      <td>...</td>\n",
       "      <td>...</td>\n",
       "    </tr>\n",
       "    <tr>\n",
       "      <th>213693</th>\n",
       "      <td>2022-05-27</td>\n",
       "      <td>0.2560</td>\n",
       "      <td>put</td>\n",
       "      <td>3.000</td>\n",
       "      <td>0.071233</td>\n",
       "    </tr>\n",
       "    <tr>\n",
       "      <th>220175</th>\n",
       "      <td>2022-05-27</td>\n",
       "      <td>0.2497</td>\n",
       "      <td>call</td>\n",
       "      <td>2.500</td>\n",
       "      <td>0.071233</td>\n",
       "    </tr>\n",
       "    <tr>\n",
       "      <th>221944</th>\n",
       "      <td>2022-05-27</td>\n",
       "      <td>0.1185</td>\n",
       "      <td>call</td>\n",
       "      <td>2.900</td>\n",
       "      <td>0.589041</td>\n",
       "    </tr>\n",
       "    <tr>\n",
       "      <th>208030</th>\n",
       "      <td>2022-05-27</td>\n",
       "      <td>0.4207</td>\n",
       "      <td>put</td>\n",
       "      <td>3.159</td>\n",
       "      <td>0.071233</td>\n",
       "    </tr>\n",
       "    <tr>\n",
       "      <th>222221</th>\n",
       "      <td>2022-05-27</td>\n",
       "      <td>0.2209</td>\n",
       "      <td>put</td>\n",
       "      <td>2.950</td>\n",
       "      <td>0.167123</td>\n",
       "    </tr>\n",
       "  </tbody>\n",
       "</table>\n",
       "<p>222222 rows × 5 columns</p>\n",
       "</div>"
      ],
      "text/plain": [
       "              date   close contract_type  exercise_price  maturity\n",
       "0       2015-02-09  0.1826          call           2.200  0.120548\n",
       "656     2015-02-09  0.1614           put           2.350  0.197260\n",
       "609     2015-02-09  0.1327           put           2.300  0.197260\n",
       "562     2015-02-09  0.1111           put           2.250  0.197260\n",
       "515     2015-02-09  0.0880           put           2.200  0.197260\n",
       "...            ...     ...           ...             ...       ...\n",
       "213693  2022-05-27  0.2560           put           3.000  0.071233\n",
       "220175  2022-05-27  0.2497          call           2.500  0.071233\n",
       "221944  2022-05-27  0.1185          call           2.900  0.589041\n",
       "208030  2022-05-27  0.4207           put           3.159  0.071233\n",
       "222221  2022-05-27  0.2209           put           2.950  0.167123\n",
       "\n",
       "[222222 rows x 5 columns]"
      ]
     },
     "execution_count": 21,
     "metadata": {},
     "output_type": "execute_result"
    }
   ],
   "source": [
    "opt_data"
   ]
  },
  {
   "cell_type": "code",
   "execution_count": null,
   "metadata": {},
   "outputs": [],
   "source": []
  }
 ],
 "metadata": {
  "interpreter": {
   "hash": "49cb93f377a7abe7414b7b0f21fb3017538004a126cf690fb524202736b7fb92"
  },
  "kernelspec": {
   "display_name": "Python 3.8.8 ('base')",
   "language": "python",
   "name": "python3"
  },
  "language_info": {
   "codemirror_mode": {
    "name": "ipython",
    "version": 3
   },
   "file_extension": ".py",
   "mimetype": "text/x-python",
   "name": "python",
   "nbconvert_exporter": "python",
   "pygments_lexer": "ipython3",
   "version": "3.8.8"
  },
  "orig_nbformat": 4
 },
 "nbformat": 4,
 "nbformat_minor": 2
}
