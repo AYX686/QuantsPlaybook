{
 "cells": [
  {
   "cell_type": "code",
   "execution_count": 6,
   "metadata": {},
   "outputs": [],
   "source": [
    "from typing import Dict,Tuple,List,Union\n",
    "import pandas as pd\n",
    "import numpy as np\n",
    "from scr.core import HMA\n",
    "from scr.load_excel_data import query_data,query_sw_classify,query_stock_index_classify,load_excel"
   ]
  },
  {
   "cell_type": "markdown",
   "metadata": {},
   "source": [
    "# 价量共振\n",
    "\n",
    "## 价量共振指标的择时系统构建\n",
    "\n",
    "1. 成交量使用的移动平均线为 AMA，收盘价使用的移动平均线为 BMA(移动平均线长度为L);\n",
    "2. 价能=$\\frac{BMA_{today}}{BMA_{Today-N}}$，当日的BMA除以前N个交易日的BMA;\n",
    "3. 量能=$\\frac{AMA_{5}}{AMA_{Long}}$，5 日的AMA除以长期的AMA;\n",
    "4. 价量共振指标=价能×量能，价能乘以量能\n",
    "5. 当价量共振指标大于 Threshold 则做多，否则平仓\n",
    "\n",
    "## 市场划分条件下的择时系统\n",
    "\n",
    "1. 当5日均线高于90日均线，市场划分为多头市场；当5日均线小于90日均线，市场划分为空头市场;\n",
    "2. 当前为多头市场下，若价量共振指标大于Threshold1则做多，否则以Threshold1平仓。当前为空头市场下， 若价量共振指标大于Threshold2则做多，否则以Threshold2平仓;\n",
    "\n",
    "**参数**\n",
    "\n",
    "AMA长期移动平均线长度为 100，BMA移动平均线长度为 50，N=3，Threshold1=1.125，Threshold2=1.275"
   ]
  },
  {
   "cell_type": "code",
   "execution_count": 7,
   "metadata": {},
   "outputs": [],
   "source": [
    "hs300:pd.DataFrame = query_data('000300.SH','2010-01-01','2022-10-11',fields=['close','volume'],method='index')\n",
    "hs300.set_index('trade_date',inplace=True)"
   ]
  },
  {
   "cell_type": "code",
   "execution_count": 12,
   "metadata": {},
   "outputs": [],
   "source": [
    "N:int = 3\n",
    "THRESHOLD1:float = 1.125\n",
    "THRESHOLD2:float = 1.275\n",
    "\n",
    "# 价能指标\n",
    "\n",
    "BMA:pd.Series = HMA(hs300['close'],50)\n",
    "\n",
    "price_mom:pd.Series = BMA / BMA.shift(N)\n",
    "\n",
    "# 量能指标\n",
    "vol_mom:pd.Series = HMA(hs300['volume'],5) / HMA(hs300['volume'],100)\n",
    "\n",
    "price_vol:pd.Series = price_mom * vol_mom"
   ]
  },
  {
   "cell_type": "code",
   "execution_count": 16,
   "metadata": {},
   "outputs": [],
   "source": [
    "filter_shake:pd.Series = (hs300['close'].rolling(5).mean() > hs300['close'].rolling(90).mean())"
   ]
  },
  {
   "cell_type": "code",
   "execution_count": 18,
   "metadata": {},
   "outputs": [],
   "source": [
    "threshold_ser:pd.Series = filter_shake.apply(lambda x:np.where(x,THRESHOLD1,THRESHOLD2))"
   ]
  },
  {
   "cell_type": "code",
   "execution_count": 19,
   "metadata": {},
   "outputs": [
    {
     "data": {
      "text/plain": [
       "trade_date\n",
       "2010-01-04         NaN\n",
       "2010-01-05         NaN\n",
       "2010-01-06         NaN\n",
       "2010-01-07         NaN\n",
       "2010-01-08         NaN\n",
       "                ...   \n",
       "2022-09-28    0.943916\n",
       "2022-09-29    0.898258\n",
       "2022-09-30    0.859400\n",
       "2022-10-10    1.008765\n",
       "2022-10-11    1.041870\n",
       "Length: 3101, dtype: float64"
      ]
     },
     "execution_count": 19,
     "metadata": {},
     "output_type": "execute_result"
    }
   ],
   "source": [
    "price_vol"
   ]
  },
  {
   "cell_type": "code",
   "execution_count": 20,
   "metadata": {},
   "outputs": [
    {
     "data": {
      "text/plain": [
       "trade_date\n",
       "2010-01-04    1.275\n",
       "2010-01-05    1.275\n",
       "2010-01-06    1.275\n",
       "2010-01-07    1.275\n",
       "2010-01-08    1.275\n",
       "              ...  \n",
       "2022-09-28    1.275\n",
       "2022-09-29    1.275\n",
       "2022-09-30    1.275\n",
       "2022-10-10    1.275\n",
       "2022-10-11    1.275\n",
       "Name: close, Length: 3101, dtype: float64"
      ]
     },
     "execution_count": 20,
     "metadata": {},
     "output_type": "execute_result"
    }
   ],
   "source": [
    "threshold_ser"
   ]
  },
  {
   "cell_type": "code",
   "execution_count": null,
   "metadata": {},
   "outputs": [],
   "source": []
  }
 ],
 "metadata": {
  "kernelspec": {
   "display_name": "base",
   "language": "python",
   "name": "python3"
  },
  "language_info": {
   "codemirror_mode": {
    "name": "ipython",
    "version": 3
   },
   "file_extension": ".py",
   "mimetype": "text/x-python",
   "name": "python",
   "nbconvert_exporter": "python",
   "pygments_lexer": "ipython3",
   "version": "3.8.8"
  },
  "orig_nbformat": 4,
  "vscode": {
   "interpreter": {
    "hash": "49cb93f377a7abe7414b7b0f21fb3017538004a126cf690fb524202736b7fb92"
   }
  }
 },
 "nbformat": 4,
 "nbformat_minor": 2
}
