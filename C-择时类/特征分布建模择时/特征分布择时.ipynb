{
 "cells": [
  {
   "cell_type": "code",
   "execution_count": 1,
   "metadata": {},
   "outputs": [],
   "source": [
    "from data_service import get_sales_depart_billboard\n",
    "import pandas as pd"
   ]
  },
  {
   "cell_type": "code",
   "execution_count": 3,
   "metadata": {},
   "outputs": [
    {
     "data": {
      "application/vnd.jupyter.widget-view+json": {
       "model_id": "791159cc4bc44f73a6d639ec0a16061e",
       "version_major": 2,
       "version_minor": 0
      },
      "text/plain": [
       "机构龙虎榜数据获取:   0%|          | 0/2188 [00:00<?, ?it/s]"
      ]
     },
     "metadata": {},
     "output_type": "display_data"
    }
   ],
   "source": [
    "# 数据获取\n",
    "billboard_df: pd.DataFrame = get_sales_depart_billboard(\n",
    "    '2013-01-01', '2021-12-31')\n",
    "\n",
    "# 数据储存\n",
    "billboard_df.to_csv('../data/billboard.csv', encoding='utf-8')"
   ]
  },
  {
   "cell_type": "code",
   "execution_count": 3,
   "metadata": {},
   "outputs": [
    {
     "data": {
      "text/plain": [
       "['data', 'data_service', 'scr', '特征分布择时.ipynb']"
      ]
     },
     "execution_count": 3,
     "metadata": {},
     "output_type": "execute_result"
    }
   ],
   "source": [
    "import os\n",
    "\n",
    "os.listdir('..')"
   ]
  },
  {
   "cell_type": "code",
   "execution_count": 4,
   "metadata": {},
   "outputs": [],
   "source": [
    "# 读取本地文件\n",
    "billboard_df: pd.DataFrame = pd.read_csv('../data/billboard.csv',\n",
    "                                         encoding='utf-8',\n",
    "                                         index_col=[0],\n",
    "                                         parse_dates=True)\n"
   ]
  },
  {
   "cell_type": "code",
   "execution_count": 5,
   "metadata": {},
   "outputs": [
    {
     "data": {
      "text/html": [
       "<div>\n",
       "<style scoped>\n",
       "    .dataframe tbody tr th:only-of-type {\n",
       "        vertical-align: middle;\n",
       "    }\n",
       "\n",
       "    .dataframe tbody tr th {\n",
       "        vertical-align: top;\n",
       "    }\n",
       "\n",
       "    .dataframe thead th {\n",
       "        text-align: right;\n",
       "    }\n",
       "</style>\n",
       "<table border=\"1\" class=\"dataframe\">\n",
       "  <thead>\n",
       "    <tr style=\"text-align: right;\">\n",
       "      <th></th>\n",
       "      <th>trade_date</th>\n",
       "      <th>ts_code</th>\n",
       "      <th>exalter</th>\n",
       "      <th>buy</th>\n",
       "      <th>buy_rate</th>\n",
       "      <th>sell</th>\n",
       "      <th>sell_rate</th>\n",
       "      <th>net_buy</th>\n",
       "      <th>side</th>\n",
       "      <th>reason</th>\n",
       "    </tr>\n",
       "  </thead>\n",
       "  <tbody>\n",
       "    <tr>\n",
       "      <th>0</th>\n",
       "      <td>2013-01-04</td>\n",
       "      <td>000043.SZ</td>\n",
       "      <td>中国国际金融有限公司上海淮海中路证券营业部</td>\n",
       "      <td>16970815.06</td>\n",
       "      <td>1.19</td>\n",
       "      <td>16377628.00</td>\n",
       "      <td>1.24</td>\n",
       "      <td>-593187.06</td>\n",
       "      <td>0</td>\n",
       "      <td>连续三个交易日内，涨幅偏离值累计达20%的证券</td>\n",
       "    </tr>\n",
       "    <tr>\n",
       "      <th>1</th>\n",
       "      <td>2013-01-04</td>\n",
       "      <td>000043.SZ</td>\n",
       "      <td>中国国际金融有限公司上海淮海中路证券营业部</td>\n",
       "      <td>16970815.06</td>\n",
       "      <td>1.19</td>\n",
       "      <td>16377628.00</td>\n",
       "      <td>1.24</td>\n",
       "      <td>-593187.06</td>\n",
       "      <td>1</td>\n",
       "      <td>连续三个交易日内，涨幅偏离值累计达20%的证券</td>\n",
       "    </tr>\n",
       "    <tr>\n",
       "      <th>2</th>\n",
       "      <td>2013-01-04</td>\n",
       "      <td>000043.SZ</td>\n",
       "      <td>中国国际金融有限公司深圳福华一路证券营业部</td>\n",
       "      <td>14052271.14</td>\n",
       "      <td>0.00</td>\n",
       "      <td>0.00</td>\n",
       "      <td>1.02</td>\n",
       "      <td>-14052271.14</td>\n",
       "      <td>1</td>\n",
       "      <td>连续三个交易日内，涨幅偏离值累计达20%的证券</td>\n",
       "    </tr>\n",
       "    <tr>\n",
       "      <th>3</th>\n",
       "      <td>2013-01-04</td>\n",
       "      <td>000043.SZ</td>\n",
       "      <td>中国银河证券股份有限公司绍兴证券营业部</td>\n",
       "      <td>5276763.48</td>\n",
       "      <td>1.13</td>\n",
       "      <td>15543450.07</td>\n",
       "      <td>0.38</td>\n",
       "      <td>10266686.59</td>\n",
       "      <td>0</td>\n",
       "      <td>连续三个交易日内，涨幅偏离值累计达20%的证券</td>\n",
       "    </tr>\n",
       "    <tr>\n",
       "      <th>4</th>\n",
       "      <td>2013-01-04</td>\n",
       "      <td>000043.SZ</td>\n",
       "      <td>光大证券股份有限公司深圳金田路证券营业部</td>\n",
       "      <td>3067442.00</td>\n",
       "      <td>2.02</td>\n",
       "      <td>27633247.70</td>\n",
       "      <td>0.22</td>\n",
       "      <td>24565805.70</td>\n",
       "      <td>0</td>\n",
       "      <td>连续三个交易日内，涨幅偏离值累计达20%的证券</td>\n",
       "    </tr>\n",
       "    <tr>\n",
       "      <th>...</th>\n",
       "      <td>...</td>\n",
       "      <td>...</td>\n",
       "      <td>...</td>\n",
       "      <td>...</td>\n",
       "      <td>...</td>\n",
       "      <td>...</td>\n",
       "      <td>...</td>\n",
       "      <td>...</td>\n",
       "      <td>...</td>\n",
       "      <td>...</td>\n",
       "    </tr>\n",
       "    <tr>\n",
       "      <th>683</th>\n",
       "      <td>2021-12-31</td>\n",
       "      <td>900943.SH</td>\n",
       "      <td>国泰君安证券股份有限公司国际部</td>\n",
       "      <td>NaN</td>\n",
       "      <td>NaN</td>\n",
       "      <td>126353.40</td>\n",
       "      <td>10.16</td>\n",
       "      <td>-126353.40</td>\n",
       "      <td>1</td>\n",
       "      <td>涨幅偏离值达7%的证券</td>\n",
       "    </tr>\n",
       "    <tr>\n",
       "      <th>684</th>\n",
       "      <td>2021-12-31</td>\n",
       "      <td>900943.SH</td>\n",
       "      <td>招商证券股份有限公司北京安立路证券营业部</td>\n",
       "      <td>NaN</td>\n",
       "      <td>NaN</td>\n",
       "      <td>74719.20</td>\n",
       "      <td>6.01</td>\n",
       "      <td>-74719.20</td>\n",
       "      <td>1</td>\n",
       "      <td>涨幅偏离值达7%的证券</td>\n",
       "    </tr>\n",
       "    <tr>\n",
       "      <th>685</th>\n",
       "      <td>2021-12-31</td>\n",
       "      <td>900943.SH</td>\n",
       "      <td>中国中金财富证券有限公司武汉中北路证券营业部</td>\n",
       "      <td>NaN</td>\n",
       "      <td>NaN</td>\n",
       "      <td>57048.50</td>\n",
       "      <td>4.59</td>\n",
       "      <td>-57048.50</td>\n",
       "      <td>1</td>\n",
       "      <td>涨幅偏离值达7%的证券</td>\n",
       "    </tr>\n",
       "    <tr>\n",
       "      <th>686</th>\n",
       "      <td>2021-12-31</td>\n",
       "      <td>900943.SH</td>\n",
       "      <td>第一创业证券股份有限公司杭州来福士营业部</td>\n",
       "      <td>NaN</td>\n",
       "      <td>NaN</td>\n",
       "      <td>56658.90</td>\n",
       "      <td>4.56</td>\n",
       "      <td>-56658.90</td>\n",
       "      <td>1</td>\n",
       "      <td>涨幅偏离值达7%的证券</td>\n",
       "    </tr>\n",
       "    <tr>\n",
       "      <th>687</th>\n",
       "      <td>2021-12-31</td>\n",
       "      <td>900943.SH</td>\n",
       "      <td>国信证券股份有限公司上海北京东路证券营业部</td>\n",
       "      <td>NaN</td>\n",
       "      <td>NaN</td>\n",
       "      <td>35329.80</td>\n",
       "      <td>2.84</td>\n",
       "      <td>-35329.80</td>\n",
       "      <td>1</td>\n",
       "      <td>涨幅偏离值达7%的证券</td>\n",
       "    </tr>\n",
       "  </tbody>\n",
       "</table>\n",
       "<p>1276512 rows × 10 columns</p>\n",
       "</div>"
      ],
      "text/plain": [
       "     trade_date    ts_code                 exalter          buy  buy_rate  \\\n",
       "0    2013-01-04  000043.SZ   中国国际金融有限公司上海淮海中路证券营业部  16970815.06      1.19   \n",
       "1    2013-01-04  000043.SZ   中国国际金融有限公司上海淮海中路证券营业部  16970815.06      1.19   \n",
       "2    2013-01-04  000043.SZ   中国国际金融有限公司深圳福华一路证券营业部  14052271.14      0.00   \n",
       "3    2013-01-04  000043.SZ     中国银河证券股份有限公司绍兴证券营业部   5276763.48      1.13   \n",
       "4    2013-01-04  000043.SZ    光大证券股份有限公司深圳金田路证券营业部   3067442.00      2.02   \n",
       "..          ...        ...                     ...          ...       ...   \n",
       "683  2021-12-31  900943.SH         国泰君安证券股份有限公司国际部          NaN       NaN   \n",
       "684  2021-12-31  900943.SH    招商证券股份有限公司北京安立路证券营业部          NaN       NaN   \n",
       "685  2021-12-31  900943.SH  中国中金财富证券有限公司武汉中北路证券营业部          NaN       NaN   \n",
       "686  2021-12-31  900943.SH    第一创业证券股份有限公司杭州来福士营业部          NaN       NaN   \n",
       "687  2021-12-31  900943.SH   国信证券股份有限公司上海北京东路证券营业部          NaN       NaN   \n",
       "\n",
       "            sell  sell_rate      net_buy  side                   reason  \n",
       "0    16377628.00       1.24   -593187.06     0  连续三个交易日内，涨幅偏离值累计达20%的证券  \n",
       "1    16377628.00       1.24   -593187.06     1  连续三个交易日内，涨幅偏离值累计达20%的证券  \n",
       "2           0.00       1.02 -14052271.14     1  连续三个交易日内，涨幅偏离值累计达20%的证券  \n",
       "3    15543450.07       0.38  10266686.59     0  连续三个交易日内，涨幅偏离值累计达20%的证券  \n",
       "4    27633247.70       0.22  24565805.70     0  连续三个交易日内，涨幅偏离值累计达20%的证券  \n",
       "..           ...        ...          ...   ...                      ...  \n",
       "683    126353.40      10.16   -126353.40     1              涨幅偏离值达7%的证券  \n",
       "684     74719.20       6.01    -74719.20     1              涨幅偏离值达7%的证券  \n",
       "685     57048.50       4.59    -57048.50     1              涨幅偏离值达7%的证券  \n",
       "686     56658.90       4.56    -56658.90     1              涨幅偏离值达7%的证券  \n",
       "687     35329.80       2.84    -35329.80     1              涨幅偏离值达7%的证券  \n",
       "\n",
       "[1276512 rows x 10 columns]"
      ]
     },
     "execution_count": 5,
     "metadata": {},
     "output_type": "execute_result"
    }
   ],
   "source": [
    "billboard_df"
   ]
  },
  {
   "cell_type": "code",
   "execution_count": null,
   "metadata": {},
   "outputs": [],
   "source": []
  }
 ],
 "metadata": {
  "kernelspec": {
   "display_name": "Python 3.8.8 ('base')",
   "language": "python",
   "name": "python3"
  },
  "language_info": {
   "codemirror_mode": {
    "name": "ipython",
    "version": 3
   },
   "file_extension": ".py",
   "mimetype": "text/x-python",
   "name": "python",
   "nbconvert_exporter": "python",
   "pygments_lexer": "ipython3",
   "version": "3.8.8"
  },
  "orig_nbformat": 4,
  "vscode": {
   "interpreter": {
    "hash": "49cb93f377a7abe7414b7b0f21fb3017538004a126cf690fb524202736b7fb92"
   }
  }
 },
 "nbformat": 4,
 "nbformat_minor": 2
}
