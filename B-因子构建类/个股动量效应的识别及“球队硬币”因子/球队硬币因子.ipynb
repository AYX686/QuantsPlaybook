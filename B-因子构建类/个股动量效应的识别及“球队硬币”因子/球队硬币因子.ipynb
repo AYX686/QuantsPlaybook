{
 "cells": [
  {
   "cell_type": "code",
   "execution_count": 1,
   "metadata": {},
   "outputs": [],
   "source": [
    "from typing import Dict, List, Tuple, Union\n",
    "\n",
    "import pandas as pd\n",
    "import qlib\n",
    "from qlib.data import D\n",
    "from qlib.data.filter import NameDFilter\n",
    "from FactorZoo import SportBettingFactor"
   ]
  },
  {
   "cell_type": "code",
   "execution_count": 2,
   "metadata": {},
   "outputs": [
    {
     "name": "stderr",
     "output_type": "stream",
     "text": [
      "[399296:MainThread](2023-06-27 16:50:42,520) INFO - qlib.Initialization - [config.py:416] - default_conf: client.\n",
      "[399296:MainThread](2023-06-27 16:50:42,741) INFO - qlib.Initialization - [__init__.py:74] - qlib successfully initialized based on client settings.\n",
      "[399296:MainThread](2023-06-27 16:50:42,742) INFO - qlib.Initialization - [__init__.py:76] - data_path={'__DEFAULT_FREQ': WindowsPath('D:/WorkSpace/QuantsPlaybook/B-因子构建类/个股动量效应的识别及“球队硬币”因子/data/qlib_data')}\n"
     ]
    }
   ],
   "source": [
    "qlib.init(provider_uri=\"data/qlib_data\", region=\"cn\")"
   ]
  },
  {
   "cell_type": "code",
   "execution_count": 3,
   "metadata": {},
   "outputs": [],
   "source": [
    "# 进获取A股所有股票 qlib过滤器速度很慢 不如手动过滤\n",
    "POOLS: List = D.list_instruments(\n",
    "    D.instruments(\"CN\", filter_pipe=[NameDFilter(\"(3|6|0)\\d{5}\\.(SH|SZ)\")]),\n",
    "    as_list=True,\n",
    ")\n",
    "\n",
    "data: pd.DataFrame = D.features(\n",
    "    POOLS, fields=[\"$close\", \"$open\", \"$turnover_rate\", \"$turnover_rate_f\"]\n",
    ")\n",
    "data.columns = data.columns.str.replace(\"$\", \"\",regex=True)"
   ]
  },
  {
   "cell_type": "code",
   "execution_count": null,
   "metadata": {},
   "outputs": [],
   "source": [
    "sportbetting:SportBettingFactor = SportBettingFactor(data)"
   ]
  },
  {
   "cell_type": "code",
   "execution_count": null,
   "metadata": {},
   "outputs": [
    {
     "ename": "AttributeError",
     "evalue": "'SportBettingFactor' object has no attribute 'overnight_turnover'",
     "output_type": "error",
     "traceback": [
      "\u001b[1;31m---------------------------------------------------------------------------\u001b[0m",
      "\u001b[1;31mAttributeError\u001b[0m                            Traceback (most recent call last)",
      "Cell \u001b[1;32mIn[6], line 6\u001b[0m\n\u001b[0;32m      4\u001b[0m revise_interday: List \u001b[39m=\u001b[39m [\u001b[39mf\u001b[39m\u001b[39m\"\u001b[39m\u001b[39mrevise_\u001b[39m\u001b[39m{\u001b[39;00mi\u001b[39m}\u001b[39;00m\u001b[39m_reverse\u001b[39m\u001b[39m\"\u001b[39m \u001b[39mfor\u001b[39;00m i \u001b[39min\u001b[39;00m factor_type]\n\u001b[0;32m      5\u001b[0m factors: List \u001b[39m=\u001b[39m volatility_reverse \u001b[39m+\u001b[39m turnover_reverse \u001b[39m+\u001b[39m revise_interday\n\u001b[1;32m----> 6\u001b[0m factors_df: pd\u001b[39m.\u001b[39mDataFrame \u001b[39m=\u001b[39m pd\u001b[39m.\u001b[39;49mconcat(\n\u001b[0;32m      7\u001b[0m     (\u001b[39mgetattr\u001b[39;49m(sportbetting, factor_name)(\u001b[39m20\u001b[39;49m, method\u001b[39m=\u001b[39;49m\u001b[39m1\u001b[39;49m, usedf\u001b[39m=\u001b[39;49m\u001b[39mFalse\u001b[39;49;00m) \u001b[39mfor\u001b[39;49;00m factor_name \u001b[39min\u001b[39;49;00m factors),\n\u001b[0;32m      8\u001b[0m     axis\u001b[39m=\u001b[39;49m\u001b[39m1\u001b[39;49m,\n\u001b[0;32m      9\u001b[0m )\n",
      "File \u001b[1;32md:\\anaconda3\\envs\\qlib_env\\lib\\site-packages\\pandas\\util\\_decorators.py:331\u001b[0m, in \u001b[0;36mdeprecate_nonkeyword_arguments.<locals>.decorate.<locals>.wrapper\u001b[1;34m(*args, **kwargs)\u001b[0m\n\u001b[0;32m    325\u001b[0m \u001b[39mif\u001b[39;00m \u001b[39mlen\u001b[39m(args) \u001b[39m>\u001b[39m num_allow_args:\n\u001b[0;32m    326\u001b[0m     warnings\u001b[39m.\u001b[39mwarn(\n\u001b[0;32m    327\u001b[0m         msg\u001b[39m.\u001b[39mformat(arguments\u001b[39m=\u001b[39m_format_argument_list(allow_args)),\n\u001b[0;32m    328\u001b[0m         \u001b[39mFutureWarning\u001b[39;00m,\n\u001b[0;32m    329\u001b[0m         stacklevel\u001b[39m=\u001b[39mfind_stack_level(),\n\u001b[0;32m    330\u001b[0m     )\n\u001b[1;32m--> 331\u001b[0m \u001b[39mreturn\u001b[39;00m func(\u001b[39m*\u001b[39;49margs, \u001b[39m*\u001b[39;49m\u001b[39m*\u001b[39;49mkwargs)\n",
      "File \u001b[1;32md:\\anaconda3\\envs\\qlib_env\\lib\\site-packages\\pandas\\core\\reshape\\concat.py:368\u001b[0m, in \u001b[0;36mconcat\u001b[1;34m(objs, axis, join, ignore_index, keys, levels, names, verify_integrity, sort, copy)\u001b[0m\n\u001b[0;32m    146\u001b[0m \u001b[39m@deprecate_nonkeyword_arguments\u001b[39m(version\u001b[39m=\u001b[39m\u001b[39mNone\u001b[39;00m, allowed_args\u001b[39m=\u001b[39m[\u001b[39m\"\u001b[39m\u001b[39mobjs\u001b[39m\u001b[39m\"\u001b[39m])\n\u001b[0;32m    147\u001b[0m \u001b[39mdef\u001b[39;00m \u001b[39mconcat\u001b[39m(\n\u001b[0;32m    148\u001b[0m     objs: Iterable[NDFrame] \u001b[39m|\u001b[39m Mapping[HashableT, NDFrame],\n\u001b[1;32m   (...)\u001b[0m\n\u001b[0;32m    157\u001b[0m     copy: \u001b[39mbool\u001b[39m \u001b[39m=\u001b[39m \u001b[39mTrue\u001b[39;00m,\n\u001b[0;32m    158\u001b[0m ) \u001b[39m-\u001b[39m\u001b[39m>\u001b[39m DataFrame \u001b[39m|\u001b[39m Series:\n\u001b[0;32m    159\u001b[0m     \u001b[39m\"\"\"\u001b[39;00m\n\u001b[0;32m    160\u001b[0m \u001b[39m    Concatenate pandas objects along a particular axis.\u001b[39;00m\n\u001b[0;32m    161\u001b[0m \n\u001b[1;32m   (...)\u001b[0m\n\u001b[0;32m    366\u001b[0m \u001b[39m    1   3   4\u001b[39;00m\n\u001b[0;32m    367\u001b[0m \u001b[39m    \"\"\"\u001b[39;00m\n\u001b[1;32m--> 368\u001b[0m     op \u001b[39m=\u001b[39m _Concatenator(\n\u001b[0;32m    369\u001b[0m         objs,\n\u001b[0;32m    370\u001b[0m         axis\u001b[39m=\u001b[39;49maxis,\n\u001b[0;32m    371\u001b[0m         ignore_index\u001b[39m=\u001b[39;49mignore_index,\n\u001b[0;32m    372\u001b[0m         join\u001b[39m=\u001b[39;49mjoin,\n\u001b[0;32m    373\u001b[0m         keys\u001b[39m=\u001b[39;49mkeys,\n\u001b[0;32m    374\u001b[0m         levels\u001b[39m=\u001b[39;49mlevels,\n\u001b[0;32m    375\u001b[0m         names\u001b[39m=\u001b[39;49mnames,\n\u001b[0;32m    376\u001b[0m         verify_integrity\u001b[39m=\u001b[39;49mverify_integrity,\n\u001b[0;32m    377\u001b[0m         copy\u001b[39m=\u001b[39;49mcopy,\n\u001b[0;32m    378\u001b[0m         sort\u001b[39m=\u001b[39;49msort,\n\u001b[0;32m    379\u001b[0m     )\n\u001b[0;32m    381\u001b[0m     \u001b[39mreturn\u001b[39;00m op\u001b[39m.\u001b[39mget_result()\n",
      "File \u001b[1;32md:\\anaconda3\\envs\\qlib_env\\lib\\site-packages\\pandas\\core\\reshape\\concat.py:422\u001b[0m, in \u001b[0;36m_Concatenator.__init__\u001b[1;34m(self, objs, axis, join, keys, levels, names, ignore_index, verify_integrity, copy, sort)\u001b[0m\n\u001b[0;32m    420\u001b[0m     objs \u001b[39m=\u001b[39m [objs[k] \u001b[39mfor\u001b[39;00m k \u001b[39min\u001b[39;00m keys]\n\u001b[0;32m    421\u001b[0m \u001b[39melse\u001b[39;00m:\n\u001b[1;32m--> 422\u001b[0m     objs \u001b[39m=\u001b[39m \u001b[39mlist\u001b[39;49m(objs)\n\u001b[0;32m    424\u001b[0m \u001b[39mif\u001b[39;00m \u001b[39mlen\u001b[39m(objs) \u001b[39m==\u001b[39m \u001b[39m0\u001b[39m:\n\u001b[0;32m    425\u001b[0m     \u001b[39mraise\u001b[39;00m \u001b[39mValueError\u001b[39;00m(\u001b[39m\"\u001b[39m\u001b[39mNo objects to concatenate\u001b[39m\u001b[39m\"\u001b[39m)\n",
      "Cell \u001b[1;32mIn[6], line 7\u001b[0m, in \u001b[0;36m<genexpr>\u001b[1;34m(.0)\u001b[0m\n\u001b[0;32m      4\u001b[0m revise_interday: List \u001b[39m=\u001b[39m [\u001b[39mf\u001b[39m\u001b[39m\"\u001b[39m\u001b[39mrevise_\u001b[39m\u001b[39m{\u001b[39;00mi\u001b[39m}\u001b[39;00m\u001b[39m_reverse\u001b[39m\u001b[39m\"\u001b[39m \u001b[39mfor\u001b[39;00m i \u001b[39min\u001b[39;00m factor_type]\n\u001b[0;32m      5\u001b[0m factors: List \u001b[39m=\u001b[39m volatility_reverse \u001b[39m+\u001b[39m turnover_reverse \u001b[39m+\u001b[39m revise_interday\n\u001b[0;32m      6\u001b[0m factors_df: pd\u001b[39m.\u001b[39mDataFrame \u001b[39m=\u001b[39m pd\u001b[39m.\u001b[39mconcat(\n\u001b[1;32m----> 7\u001b[0m     (\u001b[39mgetattr\u001b[39;49m(sportbetting, factor_name)(\u001b[39m20\u001b[39;49m, method\u001b[39m=\u001b[39;49m\u001b[39m1\u001b[39;49m, usedf\u001b[39m=\u001b[39;49m\u001b[39mFalse\u001b[39;49;00m) \u001b[39mfor\u001b[39;00m factor_name \u001b[39min\u001b[39;00m factors),\n\u001b[0;32m      8\u001b[0m     axis\u001b[39m=\u001b[39m\u001b[39m1\u001b[39m,\n\u001b[0;32m      9\u001b[0m )\n",
      "File \u001b[1;32md:\\WorkSpace\\QuantsPlaybook\\B-因子构建类\\个股动量效应的识别及“球队硬币”因子\\FactorZoo\\SportBetting.py:464\u001b[0m, in \u001b[0;36mSportBettingFactor.revise_overnight_reverse\u001b[1;34m(self, window, method, usedf)\u001b[0m\n\u001b[0;32m    459\u001b[0m \u001b[39mif\u001b[39;00m \u001b[39mlen\u001b[39m(\u001b[39mself\u001b[39m\u001b[39m.\u001b[39mdata) \u001b[39m<\u001b[39m window:\n\u001b[0;32m    460\u001b[0m     \u001b[39mraise\u001b[39;00m \u001b[39mValueError\u001b[39;00m(\u001b[39m\"\u001b[39m\u001b[39mwindow must be less than data length\u001b[39m\u001b[39m\"\u001b[39m)\n\u001b[0;32m    462\u001b[0m factor_df: pd\u001b[39m.\u001b[39mDataFrame \u001b[39m=\u001b[39m (\n\u001b[0;32m    463\u001b[0m     \u001b[39mself\u001b[39m\u001b[39m.\u001b[39movernight_volatility_reverse(window, \u001b[39mTrue\u001b[39;00m)\n\u001b[1;32m--> 464\u001b[0m     \u001b[39m+\u001b[39m \u001b[39mself\u001b[39;49m\u001b[39m.\u001b[39;49movernight_turnover(window, method, \u001b[39mTrue\u001b[39;00m)\n\u001b[0;32m    465\u001b[0m ) \u001b[39m*\u001b[39m \u001b[39m0.5\u001b[39m\n\u001b[0;32m    466\u001b[0m \u001b[39mif\u001b[39;00m usedf:\n\u001b[0;32m    467\u001b[0m     \u001b[39mreturn\u001b[39;00m factor_df\n",
      "\u001b[1;31mAttributeError\u001b[0m: 'SportBettingFactor' object has no attribute 'overnight_turnover'"
     ]
    }
   ],
   "source": [
    "factor_type: set = {\"interday\", \"intraday\", \"overnight\"}\n",
    "volatility_reverse: List = [f\"{i}_volatility_reverse\" for i in factor_type]\n",
    "turnover_reverse: List = [f\"{i}_turnover_reverse\" for i in factor_type]\n",
    "revise_interday: List = [f\"revise_{i}_reverse\" for i in factor_type]\n",
    "factors: List = volatility_reverse + turnover_reverse + revise_interday\n",
    "factors_df: pd.DataFrame = pd.concat(\n",
    "    (getattr(sportbetting, factor_name)(window=20, method=1, usedf=False) for factor_name in factors),\n",
    "    axis=1,\n",
    ")"
   ]
  },
  {
   "cell_type": "code",
   "execution_count": null,
   "metadata": {},
   "outputs": [],
   "source": []
  }
 ],
 "metadata": {
  "kernelspec": {
   "display_name": "qlib_env",
   "language": "python",
   "name": "python3"
  },
  "language_info": {
   "codemirror_mode": {
    "name": "ipython",
    "version": 3
   },
   "file_extension": ".py",
   "mimetype": "text/x-python",
   "name": "python",
   "nbconvert_exporter": "python",
   "pygments_lexer": "ipython3",
   "version": "3.8.1"
  },
  "orig_nbformat": 4
 },
 "nbformat": 4,
 "nbformat_minor": 2
}
