{
 "cells": [
  {
   "cell_type": "code",
   "execution_count": 1,
   "metadata": {},
   "outputs": [],
   "source": [
    "from typing import Dict, List, Tuple\n",
    "\n",
    "import pandas as pd\n",
    "import qlib\n",
    "from qlib.data import D\n",
    "\n",
    "from src.dataservice.query2db import get_price"
   ]
  },
  {
   "cell_type": "code",
   "execution_count": 2,
   "metadata": {},
   "outputs": [],
   "source": [
    "# qlib.init(provider_uri=\"data/qlib_data\", region=\"cn\")"
   ]
  },
  {
   "cell_type": "code",
   "execution_count": 3,
   "metadata": {},
   "outputs": [],
   "source": [
    "# POOLS: List = D.list_instruments(D.instruments(\"pool\"), as_list=True)\n",
    "# pct_chg: pd.DataFrame = D.features(POOLS, fields=[\"CSRank($close)\"])"
   ]
  },
  {
   "cell_type": "code",
   "execution_count": 4,
   "metadata": {},
   "outputs": [],
   "source": [
    "get_price(end_date='2023-06-26',count=2,fields=['close','turnover_rate_f','vol'],fq='hfq')"
   ]
  }
 ],
 "metadata": {
  "kernelspec": {
   "display_name": "qlib_env",
   "language": "python",
   "name": "python3"
  },
  "language_info": {
   "codemirror_mode": {
    "name": "ipython",
    "version": 3
   },
   "file_extension": ".py",
   "mimetype": "text/x-python",
   "name": "python",
   "nbconvert_exporter": "python",
   "pygments_lexer": "ipython3",
   "version": "3.8.16"
  },
  "orig_nbformat": 4
 },
 "nbformat": 4,
 "nbformat_minor": 2
}
