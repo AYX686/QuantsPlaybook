{
 "cells": [
  {
   "cell_type": "code",
   "execution_count": 1,
   "metadata": {},
   "outputs": [],
   "source": [
    "from typing import Dict, List, Tuple\n",
    "\n",
    "import pandas as pd\n",
    "import qlib\n",
    "from qlib.data import D"
   ]
  },
  {
   "cell_type": "code",
   "execution_count": 2,
   "metadata": {},
   "outputs": [
    {
     "name": "stderr",
     "output_type": "stream",
     "text": [
      "[882912:MainThread](2023-06-26 14:12:41,421) INFO - qlib.Initialization - [config.py:416] - default_conf: client.\n"
     ]
    }
   ],
   "source": [
    "qlib.init(provider_uri=\"data/qlib_data\", region=\"cn\")"
   ]
  },
  {
   "cell_type": "code",
   "execution_count": 3,
   "metadata": {},
   "outputs": [
    {
     "ename": "AttributeError",
     "evalue": "Please run qlib.init() first using qlib",
     "output_type": "error",
     "traceback": [
      "\u001b[1;31m---------------------------------------------------------------------------\u001b[0m",
      "\u001b[1;31mAttributeError\u001b[0m                            Traceback (most recent call last)",
      "Cell \u001b[1;32mIn[3], line 1\u001b[0m\n\u001b[1;32m----> 1\u001b[0m POOLS: List \u001b[39m=\u001b[39m D\u001b[39m.\u001b[39;49mlist_instruments(D\u001b[39m.\u001b[39minstruments(\u001b[39m\"\u001b[39m\u001b[39mpool\u001b[39m\u001b[39m\"\u001b[39m), as_list\u001b[39m=\u001b[39m\u001b[39mTrue\u001b[39;00m)\n\u001b[0;32m      2\u001b[0m pct_chg: pd\u001b[39m.\u001b[39mDataFrame \u001b[39m=\u001b[39m D\u001b[39m.\u001b[39mfeatures(POOLS, fields\u001b[39m=\u001b[39m[\u001b[39m\"\u001b[39m\u001b[39mCSRank($close)\u001b[39m\u001b[39m\"\u001b[39m])\n",
      "File \u001b[1;32md:\\anaconda3\\envs\\qlib_env\\lib\\site-packages\\qlib\\utils\\__init__.py:983\u001b[0m, in \u001b[0;36mWrapper.__getattr__\u001b[1;34m(self, key)\u001b[0m\n\u001b[0;32m    981\u001b[0m \u001b[39mdef\u001b[39;00m \u001b[39m__getattr__\u001b[39m(\u001b[39mself\u001b[39m, key):\n\u001b[0;32m    982\u001b[0m     \u001b[39mif\u001b[39;00m \u001b[39mself\u001b[39m\u001b[39m.\u001b[39m\u001b[39m__dict__\u001b[39m\u001b[39m.\u001b[39mget(\u001b[39m\"\u001b[39m\u001b[39m_provider\u001b[39m\u001b[39m\"\u001b[39m, \u001b[39mNone\u001b[39;00m) \u001b[39mis\u001b[39;00m \u001b[39mNone\u001b[39;00m:\n\u001b[1;32m--> 983\u001b[0m         \u001b[39mraise\u001b[39;00m \u001b[39mAttributeError\u001b[39;00m(\u001b[39m\"\u001b[39m\u001b[39mPlease run qlib.init() first using qlib\u001b[39m\u001b[39m\"\u001b[39m)\n\u001b[0;32m    984\u001b[0m     \u001b[39mreturn\u001b[39;00m \u001b[39mgetattr\u001b[39m(\u001b[39mself\u001b[39m\u001b[39m.\u001b[39m_provider, key)\n",
      "\u001b[1;31mAttributeError\u001b[0m: Please run qlib.init() first using qlib"
     ]
    }
   ],
   "source": [
    "POOLS: List = D.list_instruments(D.instruments(\"pool\"), as_list=True)\n",
    "pct_chg: pd.DataFrame = D.features(POOLS, fields=[\"CSRank($close)\"])"
   ]
  },
  {
   "cell_type": "code",
   "execution_count": null,
   "metadata": {},
   "outputs": [],
   "source": []
  }
 ],
 "metadata": {
  "kernelspec": {
   "display_name": "qlib_env",
   "language": "python",
   "name": "python3"
  },
  "language_info": {
   "codemirror_mode": {
    "name": "ipython",
    "version": 3
   },
   "file_extension": ".py",
   "mimetype": "text/x-python",
   "name": "python",
   "nbconvert_exporter": "python",
   "pygments_lexer": "ipython3",
   "version": "3.8.1"
  },
  "orig_nbformat": 4
 },
 "nbformat": 4,
 "nbformat_minor": 2
}
