{
 "cells": [
  {
   "cell_type": "code",
   "execution_count": 1,
   "metadata": {},
   "outputs": [],
   "source": [
    "from typing import Dict, List, Tuple, Union\n",
    "\n",
    "import pandas as pd\n",
    "import qlib\n",
    "from qlib.data import D\n",
    "from qlib.data.filter import NameDFilter\n",
    "from FactorZoo import SportBettingFactor\n",
    "from src.build_factor import get_factors_frame"
   ]
  },
  {
   "cell_type": "code",
   "execution_count": 2,
   "metadata": {},
   "outputs": [
    {
     "name": "stderr",
     "output_type": "stream",
     "text": [
      "[46128:MainThread](2023-06-27 21:37:57,869) INFO - qlib.Initialization - [config.py:416] - default_conf: client.\n",
      "[46128:MainThread](2023-06-27 21:37:58,633) INFO - qlib.Initialization - [__init__.py:74] - qlib successfully initialized based on client settings.\n",
      "[46128:MainThread](2023-06-27 21:37:58,635) INFO - qlib.Initialization - [__init__.py:76] - data_path={'__DEFAULT_FREQ': WindowsPath('D:/WorkSpace/Quantitative-analysis/B-因子构建类/个股动量效应的识别及“球队硬币”因子/data/qlib_data')}\n"
     ]
    }
   ],
   "source": [
    "qlib.init(provider_uri=\"data/qlib_data\", region=\"cn\")"
   ]
  },
  {
   "cell_type": "code",
   "execution_count": 3,
   "metadata": {},
   "outputs": [],
   "source": [
    "# 进获取A股所有股票 qlib过滤器速度很慢 不如手动过滤\n",
    "POOLS: List = D.list_instruments(\n",
    "    D.instruments(\"CN\", filter_pipe=[NameDFilter(\"(3|6|0)\\d{5}\\.(SH|SZ)\")]),\n",
    "    as_list=True,\n",
    ")\n",
    "\n",
    "data: pd.DataFrame = D.features(\n",
    "    POOLS, fields=[\"$close\", \"$open\", \"$turnover_rate\", \"$turnover_rate_f\"]\n",
    ")\n",
    "data.columns = data.columns.str.replace(\"$\", \"\",regex=True)"
   ]
  },
  {
   "cell_type": "code",
   "execution_count": 4,
   "metadata": {},
   "outputs": [],
   "source": [
    "factors_frame: pd.DataFrame = get_factors_frame(\n",
    "    data, 20, general_names=[\"interday\", \"intraday\", \"overnight\"]\n",
    ")"
   ]
  },
  {
   "cell_type": "code",
   "execution_count": null,
   "metadata": {},
   "outputs": [],
   "source": []
  },
  {
   "cell_type": "code",
   "execution_count": null,
   "metadata": {},
   "outputs": [],
   "source": []
  }
 ],
 "metadata": {
  "kernelspec": {
   "display_name": "qlib_env",
   "language": "python",
   "name": "python3"
  },
  "language_info": {
   "codemirror_mode": {
    "name": "ipython",
    "version": 3
   },
   "file_extension": ".py",
   "mimetype": "text/x-python",
   "name": "python",
   "nbconvert_exporter": "python",
   "pygments_lexer": "ipython3",
   "version": "3.8.16"
  },
  "orig_nbformat": 4
 },
 "nbformat": 4,
 "nbformat_minor": 2
}
